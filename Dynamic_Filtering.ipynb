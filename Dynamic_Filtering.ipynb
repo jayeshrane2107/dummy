{
 "cells": [
  {
   "cell_type": "code",
   "execution_count": 1,
   "metadata": {
    "collapsed": false
   },
   "outputs": [],
   "source": [
    "import pandas as pd\n",
    "import numpy as np\n",
    "import time"
   ]
  },
  {
   "cell_type": "code",
   "execution_count": 2,
   "metadata": {
    "collapsed": false
   },
   "outputs": [
    {
     "data": {
      "text/html": [
       "<div>\n",
       "<table border=\"1\" class=\"dataframe\">\n",
       "  <thead>\n",
       "    <tr style=\"text-align: right;\">\n",
       "      <th></th>\n",
       "      <th>id</th>\n",
       "      <th>name</th>\n",
       "      <th>age</th>\n",
       "      <th>city</th>\n",
       "    </tr>\n",
       "  </thead>\n",
       "  <tbody>\n",
       "    <tr>\n",
       "      <th>0</th>\n",
       "      <td>1</td>\n",
       "      <td>Ira</td>\n",
       "      <td>5</td>\n",
       "      <td>Pune</td>\n",
       "    </tr>\n",
       "    <tr>\n",
       "      <th>1</th>\n",
       "      <td>2</td>\n",
       "      <td>Jayesh</td>\n",
       "      <td>25</td>\n",
       "      <td>Hyderabad</td>\n",
       "    </tr>\n",
       "    <tr>\n",
       "      <th>2</th>\n",
       "      <td>3</td>\n",
       "      <td>Amita</td>\n",
       "      <td>31</td>\n",
       "      <td>Pune</td>\n",
       "    </tr>\n",
       "    <tr>\n",
       "      <th>3</th>\n",
       "      <td>4</td>\n",
       "      <td>Prashant</td>\n",
       "      <td>41</td>\n",
       "      <td>Pune</td>\n",
       "    </tr>\n",
       "    <tr>\n",
       "      <th>4</th>\n",
       "      <td>5</td>\n",
       "      <td>Neeraj</td>\n",
       "      <td>23</td>\n",
       "      <td>Mumbai</td>\n",
       "    </tr>\n",
       "    <tr>\n",
       "      <th>5</th>\n",
       "      <td>6</td>\n",
       "      <td>NaN</td>\n",
       "      <td>100</td>\n",
       "      <td>Mumbai</td>\n",
       "    </tr>\n",
       "  </tbody>\n",
       "</table>\n",
       "</div>"
      ],
      "text/plain": [
       "   id      name  age       city\n",
       "0   1       Ira    5       Pune\n",
       "1   2    Jayesh   25  Hyderabad\n",
       "2   3     Amita   31       Pune\n",
       "3   4  Prashant   41       Pune\n",
       "4   5    Neeraj   23     Mumbai\n",
       "5   6       NaN  100     Mumbai"
      ]
     },
     "execution_count": 2,
     "metadata": {},
     "output_type": "execute_result"
    }
   ],
   "source": [
    "d={\n",
    "    'id':pd.Series(data=[1,2,3,4,5,6]),\n",
    "    'name':pd.Series(data=['Ira','Jayesh','Amita','Prashant','Neeraj',np.nan]),\n",
    "    'age':pd.Series(data=[5,25,31,41,23,100]),\n",
    "    'city':pd.Series(data=['Pune','Hyderabad','Pune','Pune','Mumbai','Mumbai'])\n",
    "}\n",
    "\n",
    "data = pd.DataFrame(d,columns=['id','name','age','city'])\n",
    "data"
   ]
  },
  {
   "cell_type": "code",
   "execution_count": 3,
   "metadata": {
    "collapsed": true
   },
   "outputs": [],
   "source": [
    "#    = != > >= < <=\n",
    "#    \n",
    "#    like\n",
    "#    notlike\n",
    "#    \n",
    "#    startsWith\n",
    "#    endsWith\n",
    "#    \n",
    "#    between\n",
    "#    notbetween\n",
    "#    \n",
    "#    in\n",
    "#    notin\n",
    "#    \n",
    "#    isnull\n",
    "#    notisnull"
   ]
  },
  {
   "cell_type": "code",
   "execution_count": 4,
   "metadata": {
    "collapsed": false
   },
   "outputs": [],
   "source": [
    "def fun(attr,oper,val):\n",
    "    attr = \"data['\"+attr+\"']\"\n",
    "    \n",
    "    if(oper == 'like'):\n",
    "        oper = \".str.contains('\"+val+\"', regex=True)\"\n",
    "        string = '('+attr+oper+')'\n",
    "    elif(oper == 'notlike'):\n",
    "        oper = \".str.contains('\"+val+\"', regex=True)\"\n",
    "        string = '~('+attr+oper+')'\n",
    "    elif(oper == 'startsWith'):\n",
    "        oper = \".str.contains('^\"+val+\"', regex=True)\"\n",
    "        string = '('+attr+oper+')'\n",
    "    elif(oper == 'endsWith'):\n",
    "        oper = \".str.contains('\"+val+\"$', regex=True)\"\n",
    "        string = '('+attr+oper+')'\n",
    "        \n",
    "    elif(oper == 'in'):\n",
    "        in_list = val.split(',')\n",
    "        int_list = [i.isdigit() for i in in_list]\n",
    "        if(all(int_list)):\n",
    "            in_string = val\n",
    "        else:\n",
    "            in_string = ', '.join(\"'\" + item + \"'\" for item in in_list)\n",
    "        oper = \".isin([\"+in_string+\"])\"\n",
    "        string = '('+attr+oper+')'\n",
    "    elif(oper == 'notin'):\n",
    "        in_list = val.split(',')\n",
    "        int_list = [i.isdigit() for i in in_list]\n",
    "        if(all(int_list)):\n",
    "            in_string = val\n",
    "        else:\n",
    "            in_string = ', '.join(\"'\" + item + \"'\" for item in in_list)\n",
    "        oper = \".isin([\"+in_string+\"])\"\n",
    "        string = '~('+attr+oper+')'\n",
    "        \n",
    "    elif(oper == 'between'):\n",
    "        low,up = val.split(',')\n",
    "        string = '((' + attr + '>=' + low + ') & (' + attr + '<=' + up + '))'\n",
    "    elif(oper == 'notbetween'):\n",
    "        low,up = val.split(',')\n",
    "        string = '((' + attr + '<' + low + ') | (' + attr + '>' + up + '))'\n",
    "    \n",
    "    elif(oper == 'isnull'):\n",
    "        oper = \".isnull()\"\n",
    "        string = '('+attr+oper+')'\n",
    "    elif(oper == 'notisnull'):\n",
    "        oper = \".isnull()\"\n",
    "        string = '~('+attr+oper+')'\n",
    "    \n",
    "    else:\n",
    "         string = '(' + attr + \" \" + oper + \" \" + val +')'\n",
    "    return string"
   ]
  },
  {
   "cell_type": "code",
   "execution_count": 8,
   "metadata": {
    "collapsed": false
   },
   "outputs": [
    {
     "data": {
      "text/html": [
       "<div>\n",
       "<table border=\"1\" class=\"dataframe\">\n",
       "  <thead>\n",
       "    <tr style=\"text-align: right;\">\n",
       "      <th></th>\n",
       "      <th>attribute</th>\n",
       "      <th>operator</th>\n",
       "      <th>value</th>\n",
       "      <th>string</th>\n",
       "    </tr>\n",
       "  </thead>\n",
       "  <tbody>\n",
       "    <tr>\n",
       "      <th>0</th>\n",
       "      <td>id</td>\n",
       "      <td>&gt;=</td>\n",
       "      <td>2</td>\n",
       "      <td>(data['id'] &gt;= 2)</td>\n",
       "    </tr>\n",
       "    <tr>\n",
       "      <th>1</th>\n",
       "      <td>city</td>\n",
       "      <td>in</td>\n",
       "      <td>Pune,Mumbai</td>\n",
       "      <td>(data['city'].isin(['Pune', 'Mumbai']))</td>\n",
       "    </tr>\n",
       "    <tr>\n",
       "      <th>2</th>\n",
       "      <td>id</td>\n",
       "      <td>notin</td>\n",
       "      <td>1,2</td>\n",
       "      <td>~(data['id'].isin([1,2]))</td>\n",
       "    </tr>\n",
       "    <tr>\n",
       "      <th>3</th>\n",
       "      <td>age</td>\n",
       "      <td>notbetween</td>\n",
       "      <td>30,40</td>\n",
       "      <td>((data['age']&lt;30) | (data['age']&gt;40))</td>\n",
       "    </tr>\n",
       "    <tr>\n",
       "      <th>4</th>\n",
       "      <td>city</td>\n",
       "      <td>notlike</td>\n",
       "      <td>ai</td>\n",
       "      <td>~(data['city'].str.contains('ai', regex=True))</td>\n",
       "    </tr>\n",
       "    <tr>\n",
       "      <th>5</th>\n",
       "      <td>name</td>\n",
       "      <td>notisnull</td>\n",
       "      <td>NaN</td>\n",
       "      <td>~(data['name'].isnull())</td>\n",
       "    </tr>\n",
       "  </tbody>\n",
       "</table>\n",
       "</div>"
      ],
      "text/plain": [
       "  attribute    operator        value  \\\n",
       "0        id          >=            2   \n",
       "1      city          in  Pune,Mumbai   \n",
       "2        id       notin          1,2   \n",
       "3       age  notbetween        30,40   \n",
       "4      city     notlike           ai   \n",
       "5      name   notisnull          NaN   \n",
       "\n",
       "                                           string  \n",
       "0                               (data['id'] >= 2)  \n",
       "1         (data['city'].isin(['Pune', 'Mumbai']))  \n",
       "2                       ~(data['id'].isin([1,2]))  \n",
       "3           ((data['age']<30) | (data['age']>40))  \n",
       "4  ~(data['city'].str.contains('ai', regex=True))  \n",
       "5                        ~(data['name'].isnull())  "
      ]
     },
     "execution_count": 8,
     "metadata": {},
     "output_type": "execute_result"
    }
   ],
   "source": [
    "js = [\n",
    "    {'attribute':'id', 'operator':'>=', 'value':'2'},\n",
    "    {'attribute':'city', 'operator':'in', 'value':'Pune,Mumbai'},\n",
    "    {'attribute':'id', 'operator':'notin', 'value':'1,2'},\n",
    "    {'attribute':'age', 'operator':'notbetween', 'value':'30,40'},\n",
    "    {'attribute':'city', 'operator':'notlike', 'value':'ai'},\n",
    "    {'attribute':'name', 'operator':'notisnull'}\n",
    "]\n",
    "json_df = df = pd.DataFrame(data=js,columns=['attribute','operator','value'])\n",
    "json_df['string'] = json_df.apply(lambda x: fun(x['attribute'],x['operator'],x['value']), axis=1)\n",
    "\n",
    "json_df"
   ]
  },
  {
   "cell_type": "code",
   "execution_count": 9,
   "metadata": {
    "collapsed": false
   },
   "outputs": [
    {
     "data": {
      "text/plain": [
       "\"(data['id'] >= 2) & (data['city'].isin(['Pune', 'Mumbai'])) & ~(data['id'].isin([1,2])) & ((data['age']<30) | (data['age']>40)) & ~(data['city'].str.contains('ai', regex=True)) & ~(data['name'].isnull())\""
      ]
     },
     "execution_count": 9,
     "metadata": {},
     "output_type": "execute_result"
    }
   ],
   "source": [
    "condition = ' & '.join(json_df['string'])\n",
    "condition"
   ]
  },
  {
   "cell_type": "code",
   "execution_count": 10,
   "metadata": {
    "collapsed": false
   },
   "outputs": [
    {
     "data": {
      "text/html": [
       "<div>\n",
       "<table border=\"1\" class=\"dataframe\">\n",
       "  <thead>\n",
       "    <tr style=\"text-align: right;\">\n",
       "      <th></th>\n",
       "      <th>id</th>\n",
       "      <th>name</th>\n",
       "      <th>age</th>\n",
       "      <th>city</th>\n",
       "    </tr>\n",
       "  </thead>\n",
       "  <tbody>\n",
       "    <tr>\n",
       "      <th>3</th>\n",
       "      <td>4</td>\n",
       "      <td>Prashant</td>\n",
       "      <td>41</td>\n",
       "      <td>Pune</td>\n",
       "    </tr>\n",
       "  </tbody>\n",
       "</table>\n",
       "</div>"
      ],
      "text/plain": [
       "   id      name  age  city\n",
       "3   4  Prashant   41  Pune"
      ]
     },
     "execution_count": 10,
     "metadata": {},
     "output_type": "execute_result"
    }
   ],
   "source": [
    "data[eval(condition)]"
   ]
  },
  {
   "cell_type": "code",
   "execution_count": null,
   "metadata": {
    "collapsed": true
   },
   "outputs": [],
   "source": []
  }
 ],
 "metadata": {
  "anaconda-cloud": {},
  "kernelspec": {
   "display_name": "Python [Root]",
   "language": "python",
   "name": "Python [Root]"
  },
  "language_info": {
   "codemirror_mode": {
    "name": "ipython",
    "version": 3
   },
   "file_extension": ".py",
   "mimetype": "text/x-python",
   "name": "python",
   "nbconvert_exporter": "python",
   "pygments_lexer": "ipython3",
   "version": "3.5.2"
  }
 },
 "nbformat": 4,
 "nbformat_minor": 0
}
