{
 "cells": [
  {
   "cell_type": "code",
   "execution_count": 20,
   "metadata": {},
   "outputs": [],
   "source": [
    "def list_o_matic(input_char,input_list):\n",
    "    last_index = len(input_list)-1\n",
    "    if input_char == \"\":\n",
    "        print('As input_char is null, removing last element of input_list')\n",
    "        input_list.pop(last_index)\n",
    "    elif input_char not in input_list:\n",
    "        print('As input_char is not present in the list, adding it to end of input_list')\n",
    "        input_list.append(input_char)\n",
    "    elif input_char in input_list:\n",
    "        print('As input_char is present in the list, removing first element of input_list ')\n",
    "        input_list.remove(input_list[0])\n",
    "    return input_list"
   ]
  },
  {
   "cell_type": "code",
   "execution_count": 21,
   "metadata": {},
   "outputs": [
    {
     "name": "stdout",
     "output_type": "stream",
     "text": [
      "Enter char :: d\n",
      "As input_char is not present in the list, adding it to end of input_list\n",
      "['a', 'b', 'c', 'd']\n",
      "Enter char :: c\n",
      "As input_char is present in the list, removing first element of input_list \n",
      "['b', 'c', 'd']\n",
      "Enter char :: \n",
      "As input_char is null, removing last element of input_list\n",
      "['b', 'c']\n",
      "Enter char :: quit\n",
      "Input character is equal to quit\n"
     ]
    }
   ],
   "source": [
    "input_list=['a','b','c']\n",
    "\n",
    "while True:\n",
    "    input_char=input('Enter char :: ')\n",
    "    if input_char == 'quit':\n",
    "        print('Input character is equal to quit')\n",
    "        break\n",
    "    else:\n",
    "        input_list = list_o_matic(input_char,input_list)\n",
    "        print(input_list)\n",
    "        if len(input_list)==0:\n",
    "            print('Input list has 0 elements')\n",
    "            break\n",
    "        else:\n",
    "            continue\n",
    "    print()"
   ]
  },
  {
   "cell_type": "code",
   "execution_count": null,
   "metadata": {},
   "outputs": [],
   "source": []
  }
 ],
 "metadata": {
  "kernelspec": {
   "display_name": "Python 3",
   "language": "python",
   "name": "python3"
  },
  "language_info": {
   "codemirror_mode": {
    "name": "ipython",
    "version": 3
   },
   "file_extension": ".py",
   "mimetype": "text/x-python",
   "name": "python",
   "nbconvert_exporter": "python",
   "pygments_lexer": "ipython3",
   "version": "3.6.4"
  }
 },
 "nbformat": 4,
 "nbformat_minor": 2
}
