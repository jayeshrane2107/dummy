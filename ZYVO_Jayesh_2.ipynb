{
 "cells": [
  {
   "cell_type": "code",
   "execution_count": 17,
   "metadata": {},
   "outputs": [],
   "source": [
    "from HelperFunctions import Classifier, ExtraTreesFeatureImportanceTransformator, SVMTransformator, NNTransformator\n",
    "from Pipeline import ClassificationPipeline\n",
    "\n",
    "import pandas as pd\n",
    "import numpy as np\n",
    "\n",
    "import random\n",
    "from xgboost import XGBClassifier\n",
    "from collections import Counter\n",
    "from statistics import mean\n",
    "\n",
    "from sklearn import pipeline, svm, neural_network\n",
    "from sklearn.ensemble import AdaBoostClassifier, ExtraTreesClassifier\n",
    "from sklearn.model_selection import GridSearchCV,train_test_split,StratifiedKFold\n",
    "from sklearn.metrics import confusion_matrix, accuracy_score, precision_score, recall_score, roc_auc_score\n",
    "from sklearn.utils import shuffle\n",
    "from sklearn.decomposition import PCA,KernelPCA\n",
    "from sklearn.manifold import TSNE\n",
    "from sklearn.feature_selection import SelectPercentile, SelectKBest, f_classif\n",
    "from sklearn.preprocessing import StandardScaler\n",
    "from sklearn.pipeline import Pipeline,FeatureUnion\n",
    "from sklearn.base import TransformerMixin\n",
    "\n",
    "from imblearn.over_sampling import SMOTE,ADASYN \n",
    "from imblearn.metrics import classification_report_imbalanced\n",
    "\n",
    "from mpl_toolkits.mplot3d import Axes3D\n",
    "from matplotlib import pyplot as plt\n",
    "from matplotlib import colors\n",
    "#%matplotlib inline\n",
    "%matplotlib notebook\n",
    "plt.style.use('ggplot')\n",
    "pd.set_option('display.max_columns', 250)\n",
    "pd.set_option('display.max_rows', 250)"
   ]
  },
  {
   "cell_type": "code",
   "execution_count": 18,
   "metadata": {},
   "outputs": [
    {
     "data": {
      "text/plain": [
       "(144, 50)"
      ]
     },
     "execution_count": 18,
     "metadata": {},
     "output_type": "execute_result"
    }
   ],
   "source": [
    "features = pd.read_csv('subjectsAll31316-havovwoOnly.txt', sep=\";\", header=0)\n",
    "features['Answer.6'].fillna(value= 6-features['Answer'],inplace=True)\n",
    "#upper_null_index = features[features['Answer.6'].isnull()].index.tolist()\n",
    "#features.drop(upper_null_index, inplace=True)\n",
    "#features.reset_index(drop=True, inplace=True)\n",
    "features.shape"
   ]
  },
  {
   "cell_type": "code",
   "execution_count": 19,
   "metadata": {},
   "outputs": [
    {
     "data": {
      "text/plain": [
       "(144,)"
      ]
     },
     "execution_count": 19,
     "metadata": {},
     "output_type": "execute_result"
    }
   ],
   "source": [
    "labels = features['Answer.6'].groupby(features['Supervisor']).transform(lambda x: np.floor(x.max()*0.67)>=x).astype(int)\n",
    "labels.shape"
   ]
  },
  {
   "cell_type": "code",
   "execution_count": 20,
   "metadata": {
    "collapsed": true
   },
   "outputs": [],
   "source": [
    "pd.DataFrame.replace(features, to_replace=',',value='.', regex=True, inplace=True)\n",
    "\n",
    "obj_float_col = ['wtf','Actiegerichtheid', 'Behoefte aan regels', 'Behoefte aan spanning', 'Beinvloedingsvermogen', 'Detailgerichtheid', 'Doorzettingsvermogen', 'Eigen verantwoordelijkheid', 'Eigenbelang', 'Focus', 'Impulsbeheersing', 'Meevoelendheid', 'Oorzaak-analyse', 'Optimisme', 'Profileringsdrang', 'Rationaliteit', 'Sociabiliteit', 'Stressgevoeligheid', 'Verbeeldingskracht', 'Vertrouwen in anderen', 'Werkorganisatie', 'Werktempo', 'Zelfbeheersing', 'Zelfwaardering', 'Zelfwerkzaamheid']\n",
    "for i in obj_float_col:\n",
    "    features[i] = features[i].astype('float64')"
   ]
  },
  {
   "cell_type": "code",
   "execution_count": 21,
   "metadata": {},
   "outputs": [
    {
     "data": {
      "text/plain": [
       "ID                              int64\n",
       "employeeID                      int64\n",
       "Department                     object\n",
       "wtf                           float64\n",
       "DateOfBirth                     int64\n",
       "EmployedSince                   int64\n",
       "educationType                   int64\n",
       "Supervisor                     object\n",
       "Team                           object\n",
       "Gender                          int64\n",
       "Qualified                       int64\n",
       "teacherScale                    int64\n",
       "Actiegerichtheid              float64\n",
       "Behoefte aan regels           float64\n",
       "Behoefte aan spanning         float64\n",
       "Beinvloedingsvermogen         float64\n",
       "Detailgerichtheid             float64\n",
       "Doorzettingsvermogen          float64\n",
       "Eigen verantwoordelijkheid    float64\n",
       "Eigenbelang                   float64\n",
       "Focus                         float64\n",
       "Impulsbeheersing              float64\n",
       "Meevoelendheid                float64\n",
       "Oorzaak-analyse               float64\n",
       "Optimisme                     float64\n",
       "Profileringsdrang             float64\n",
       "Rationaliteit                 float64\n",
       "Sociabiliteit                 float64\n",
       "Stressgevoeligheid            float64\n",
       "Verbeeldingskracht            float64\n",
       "Vertrouwen in anderen         float64\n",
       "Werkorganisatie               float64\n",
       "Werktempo                     float64\n",
       "Zelfbeheersing                float64\n",
       "Zelfwaardering                float64\n",
       "Zelfwerkzaamheid              float64\n",
       "Question#                       int64\n",
       "Answer                          int64\n",
       "Question#.1                     int64\n",
       "Answer.1                        int64\n",
       "Question#.2                     int64\n",
       "Answer.2                        int64\n",
       "Question#.3                     int64\n",
       "Answer.3                        int64\n",
       "Question#.4                     int64\n",
       "Answer.4                        int64\n",
       "Question#.5                     int64\n",
       "Answer.5                        int64\n",
       "Question#.6                   float64\n",
       "Answer.6                      float64\n",
       "dtype: object"
      ]
     },
     "execution_count": 21,
     "metadata": {},
     "output_type": "execute_result"
    }
   ],
   "source": [
    "features.dtypes"
   ]
  },
  {
   "cell_type": "code",
   "execution_count": 22,
   "metadata": {},
   "outputs": [
    {
     "data": {
      "text/plain": [
       "(144, 68)"
      ]
     },
     "execution_count": 22,
     "metadata": {},
     "output_type": "execute_result"
    }
   ],
   "source": [
    "features.drop(['ID','employeeID','Answer.6','Question#.1','Question#.2','Question#.3','Question#.4','Question#.5','Question#.6'], axis=1, inplace=True)\n",
    "features = features.sample(frac=1).reset_index(drop=True)\n",
    "\n",
    "features = pd.get_dummies(features)\n",
    "features.shape"
   ]
  },
  {
   "cell_type": "code",
   "execution_count": 23,
   "metadata": {
    "collapsed": true
   },
   "outputs": [],
   "source": [
    "percentage = 33\n",
    "pcaAmount = 10\n",
    "featureSectionAmount = 23\n",
    "treeAmount = 512\n",
    "adaboostAmount = 400\n",
    "adaboostRate = 0.001\n",
    "pcaDegree = 3\n",
    "pcaGamma = 0.33\n",
    "featureImportanceAmount = 15\n",
    "SVMAmount = 15\n",
    "NNAmount = 10\n",
    "\n",
    "output = []\n",
    "outputProba = []\n",
    "precision_1 = []\n",
    "precision_0 = []\n",
    "recall_1 = []\n",
    "recall_0 = []\n",
    "auc_roc = []\n",
    "accuracy = []\n",
    "Proba = [0,0,0]\n",
    "Confidence = [0,0,0]\n",
    "confidence_proba = [0,0,0]"
   ]
  },
  {
   "cell_type": "code",
   "execution_count": 24,
   "metadata": {},
   "outputs": [],
   "source": [
    "for i in range(0,5):\n",
    "    folds = StratifiedKFold(n_splits=2, shuffle=True)\n",
    "    \n",
    "    for train_index, test_index in folds.split(features,labels):\n",
    "        \n",
    "        \n",
    "        train_features, test_features = features.iloc[train_index], features.iloc[test_index]\n",
    "        train_labels, test_labels = labels.iloc[train_index], labels.iloc[test_index]\n",
    "        \n",
    "        smote = SMOTE(ratio='auto',kind='svm')\n",
    "        train_features, train_labels = smote.fit_sample(train_features, train_labels)\n",
    "        train_features, train_labels = shuffle(train_features, train_labels, random_state=5)\n",
    "         \n",
    "       \n",
    "        forest = ExtraTreesClassifier(n_estimators=treeAmount,criterion=\"gini\",max_depth=None,min_samples_split=2,\\\n",
    "                                           min_samples_leaf=1,min_weight_fraction_leaf=0,max_features=\"sqrt\", max_leaf_nodes=None,\\\n",
    "                                           bootstrap=True,oob_score=True,n_jobs=1,random_state=None,verbose=0,warm_start=False,\\\n",
    "                                           class_weight=\"balanced_subsample\")\n",
    "    \n",
    "        ada = AdaBoostClassifier(base_estimator=forest, n_estimators=adaboostAmount, learning_rate=adaboostRate)\n",
    "    \n",
    "        fu = FeatureUnion(n_jobs=-1, transformer_list=[('pca',KernelPCA(pcaAmount, 'poly', degree=pcaDegree, gamma=pcaGamma)),\\\n",
    "                                                       ('fs',SelectKBest(f_classif, k = featureSectionAmount)),\\\n",
    "                                                       ('importance', ExtraTreesFeatureImportanceTransformator(train_features, train_labels, featureImportanceAmount, treeAmount)),\\\n",
    "                                                       ('SVM', SVMTransformator(train_features, train_labels, SVMAmount)),\\\n",
    "                                                       ('NN', NNTransformator(train_features, NNAmount))])\n",
    "        \n",
    "        pipe = Pipeline([('scaler', StandardScaler()),('fu',fu),('ada',ada)])\n",
    "        pipe.fit(train_features, train_labels)\n",
    "    \n",
    "        outputfold = pipe.predict(test_features).tolist()\n",
    "        outputProbafold = pipe.predict_proba(test_features)\n",
    "        \n",
    "        output_df = pd.DataFrame(outputProbafold,columns=['zero','one'])\n",
    "        output_df['Proba_80'] = ((output_df['one']>0.80) | (output_df['one']<0.20)).astype(int)\n",
    "        output_df['Proba_65'] = ((output_df['one'].between(0.65,0.80)) | (output_df['one'].between(0.20,0.35))).astype(int)\n",
    "        output_df['Proba_50'] = (output_df['one'].between(0.35,0.65)).astype(int)\n",
    "        output_df['Test_pred'] = pd.Series(outputfold)\n",
    "        output_df['Test_label'] = pd.Series(test_labels.values)\n",
    "        output_df['Confidence_80'] = ((output_df['Proba_80']==1) & (output_df['Test_pred']==output_df['Test_label'])).astype(int)\n",
    "        output_df['Confidence_65'] = ((output_df['Proba_65']==1) & (output_df['Test_pred']==output_df['Test_label'])).astype(int)\n",
    "        output_df['Confidence_50'] = ((output_df['Proba_50']==1) & (output_df['Test_pred']==output_df['Test_label'])).astype(int)\n",
    "        \n",
    "        Proba = [sum(i) for i in zip(Proba,[output_df['Proba_80'].sum() , output_df['Proba_65'].sum() , output_df['Proba_50'].sum()])]\n",
    "        Confidence = [sum(i) for i in zip(Confidence,[output_df['Confidence_80'].sum() , output_df['Confidence_65'].sum(), output_df['Confidence_50'].sum()])]\n",
    "        confidence_proba = [x/y for x,y in zip(Confidence, Proba)]\n",
    "        \n",
    "        precision_1.append(precision_score(test_labels, outputfold, pos_label = 1, average = 'binary'))\n",
    "        precision_0.append(precision_score(test_labels, outputfold, pos_label = 0, average = 'binary'))\n",
    "        \n",
    "        auc_roc.append(roc_auc_score(test_labels, outputfold))\n",
    "        accuracy.append(accuracy_score(test_labels, outputfold))\n",
    "        \n",
    "        recall_1.append(recall_score(test_labels, outputfold, pos_label = 1, average = 'binary'))\n",
    "        recall_0.append(recall_score(test_labels, outputfold, pos_label = 0, average = 'binary'))\n",
    "    \n",
    "    ans = {'precision':[mean(precision_0),mean(precision_1)], 'auc':mean(auc_roc), 'recall':[mean(recall_0),mean(recall_1)], \\\n",
    "           'acc':mean(accuracy), 'accuracy top 80-65-50': confidence_proba}\n",
    "    \n",
    "    with open('solution_Jayesh2.txt', 'a') as file:\n",
    "        for q in ans.keys():\n",
    "            file.write(q + \" \" + str(ans[q]) + \"\\n\")\n",
    "        file.write(\"\\n\\n\")"
   ]
  }
 ],
 "metadata": {
  "kernelspec": {
   "display_name": "Python 3",
   "language": "python",
   "name": "python3"
  },
  "language_info": {
   "codemirror_mode": {
    "name": "ipython",
    "version": 3
   },
   "file_extension": ".py",
   "mimetype": "text/x-python",
   "name": "python",
   "nbconvert_exporter": "python",
   "pygments_lexer": "ipython3",
   "version": "3.6.3"
  }
 },
 "nbformat": 4,
 "nbformat_minor": 2
}
